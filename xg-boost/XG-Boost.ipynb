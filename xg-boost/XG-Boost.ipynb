import pandas as pd
import numpy as np
import seaborn as sns
import matplotlib.pyplot as plt
from sklearn.model_selection import train_test_split
from sklearn.metrics import r2_score, mean_squared_error, mean_absolute_error
from xgboost import XGBRegressor
from google.colab import files

print("📥 Upload the 2024 Sales Data File:")
uploaded = files.upload()
df = pd.read_csv(next(iter(uploaded)))

df['Price after discount'] = df['Price after discount'].replace('[\$,]', '', regex=True).str.replace(',', '').astype(float)
df['Website Visits'] = df['Website Visits'].astype(float)
df['Units Sold'] = df['Units Sold'].astype(float)
df['Discount (%)'] = df['Discount (%)'].fillna(0)
df['Month'] = pd.to_datetime(df['Date']).dt.month
df['Previous Sales'] = df['Units Sold'].shift(1).fillna(df['Units Sold'].mean())
df['Sales Momentum'] = df['Units Sold'] - df['Units Sold'].shift(1).fillna(0)

features = ['Month', 'Price after discount', 'Website Visits', 'Previous Sales', 'Sales Momentum']
X = df[features]
y = df['Units Sold']

model = XGBRegressor(
    n_estimators=300,
    max_depth=3,
    learning_rate=0.05,
    subsample=0.8,
    colsample_bytree=0.7,
    random_state=42
)
X_train, X_test, y_train, y_test = train_test_split(X, y, test_size=0.2, random_state=42)
model.fit(X_train, y_train)

y_pred = model.predict(X_test)
print("\n📊 Model Performance:")
print(f"- R² Score: {r2_score(y_test, y_pred):.2f}")
print(f"- MSE: {mean_squared_error(y_test, y_pred):.2f}")
print(f"- MAE: {mean_absolute_error(y_test, y_pred):.2f}")

jan_price = df['Price after discount'].iloc[-1] * 1.08
jan_visits = df['Website Visits'].iloc[-1] * 1.05
jan_previous_sales = df['Units Sold'].iloc[-1]
jan_momentum = jan_previous_sales - df['Units Sold'].iloc[-2]

jan_features = pd.DataFrame([{
    'Month': 1,
    'Price after discount': jan_price,
    'Website Visits': jan_visits,
    'Previous Sales': jan_previous_sales,
    'Sales Momentum': jan_momentum
}])

jan_units_pred = int(round(model.predict(jan_features)[0]))

print(f"\n📅 January 2025 Prediction:")
print(f"- Predicted Units Sold: {jan_units_pred} units")
print(f"- Predicted Unit Price: {int(jan_price):,} EGP")

print("\n📥 Upload actual January 2025 Sales File:")
uploaded_actual = files.upload()
actual_df = pd.read_csv(next(iter(uploaded_actual)))

actual_units = int(actual_df['Units Sold'].iloc[0])
actual_price = int(str(actual_df['Price after discount'].iloc[0]).replace(',', ''))

comparison = pd.DataFrame({
    'Metric': ['Units Sold', 'Unit Price (EGP)'],
    'Predicted': [jan_units_pred, int(jan_price)],
    'Actual': [actual_units, actual_price]
})
print("\n🔎 Comparison:")
print(comparison)

plt.figure(figsize=(10, 4))
sns.lineplot(x=pd.to_datetime(df['Date']), y=df['Price after discount'], color='#008cba', linewidth=3)
plt.title("📈 Unit Price Trend Over 2024")
plt.xlabel("Date")
plt.ylabel("Price after Discount (EGP)")
plt.grid(True)
plt.tight_layout()
plt.show()

plt.figure(figsize=(8, 5))
sns.scatterplot(x=df['Price after discount'], y=df['Units Sold'], color='#e91e63', s=100)
plt.title("🔍 Price vs Units Sold")
plt.xlabel("Price after Discount")
plt.ylabel("Units Sold")
plt.grid(True)
plt.tight_layout()
plt.show()

plt.figure(figsize=(6, 4))
sns.barplot(x=['Predicted', 'Actual'], y=[int(jan_price), actual_price], palette=['#4caf50', '#f44336'])
plt.title("💰 Unit Price Comparison (Jan 2025)")
plt.ylabel("Unit Price (EGP)")
plt.grid(True)
plt.tight_layout()
plt.show()

plt.figure(figsize=(6, 4))
sns.barplot(x=['Predicted', 'Actual'], y=[jan_units_pred, actual_units], palette=['#03a9f4', '#ff9800'])
plt.title("📦 Units Sold Comparison (Jan 2025)")
plt.ylabel("Units Sold")
plt.grid(True)
plt.tight_layout()
plt.show()
